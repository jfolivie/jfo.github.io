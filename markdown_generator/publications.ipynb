{
 "cells": [
  {
   "cell_type": "markdown",
   "metadata": {
    "deletable": true,
    "editable": true
   },
   "source": [
    "# Publications markdown generator for academicpages\n",
    "\n",
    "Takes a TSV of publications with metadata and converts them for use with [academicpages.github.io](academicpages.github.io). This is an interactive Jupyter notebook ([see more info here](http://jupyter-notebook-beginner-guide.readthedocs.io/en/latest/what_is_jupyter.html)). The core python code is also in `publications.py`. Run either from the `markdown_generator` folder after replacing `publications.tsv` with one containing your data.\n",
    "\n",
    "TODO: Make this work with BibTex and other databases of citations, rather than Stuart's non-standard TSV format and citation style.\n"
   ]
  },
  {
   "cell_type": "markdown",
   "metadata": {},
   "source": [
    "## Data format\n",
    "\n",
    "The TSV needs to have the following columns: pub_date, title, venue, excerpt, citation, site_url, and paper_url, with a header at the top. \n",
    "\n",
    "- `excerpt` and `paper_url` can be blank, but the others must have values. \n",
    "- `pub_date` must be formatted as YYYY-MM-DD.\n",
    "- `url_slug` will be the descriptive part of the .md file and the permalink URL for the page about the paper. The .md file will be `YYYY-MM-DD-[url_slug].md` and the permalink will be `https://[yourdomain]/publications/YYYY-MM-DD-[url_slug]`\n",
    "\n",
    "This is how the raw file looks (it doesn't look pretty, use a spreadsheet or other program to edit and create)."
   ]
  },
  {
   "cell_type": "code",
   "execution_count": 30,
   "metadata": {
    "collapsed": false
   },
   "outputs": [
    {
     "name": "stdout",
     "output_type": "stream",
     "text": [
      "pub_date\ttitle\tvenue\texcerpt\tcitation\turl_slug\tpaper_url\tslides_url\n",
      "2023-06-13\tWater dynamics and sum-frequency generation spectra at electrode/aqueous electrolyte interfaces\tFaraday Discussions\tThe dynamics of water at interfaces between an electrode and an electrolyte is essential for the transport of redox species and for the kinetics of charge transfer reactions next to the electrode. However, while the effects of electrode potential and ion concentration on the electric double layer structure have been extensively studied, a comparable understanding of dynamical aspects is missing. Interfacial water dynamics presents challenges since it is expected to result from the complex combination of water–water, water–electrode and water–ion interactions. Here we perform molecular dynamics simulations of aqueous NaCl solutions at the interface with graphene electrodes, and examine the impact of both ion concentration and electrode potential on interfacial water reorientational dynamics. We show that for all salt concentrations water dynamics exhibits strongly asymmetric behavior: it slows down at increasingly positively charged electrodes but it accelerates at increasingly negatively charged electrodes. At negative potentials water dynamics is determined mostly by the electrode potential value, but in contrast at positive potentials it is governed both by ion–water and electrode–water interactions. We show how these strikingly different behaviors are determined by the interfacial hydrogen-bond network structure and by the ions' surface affinity. Finally, we indicate how the structural rearrangements impacting water dynamics can be probed via vibrational sum-frequency generation spectroscopy.\tOlivieri, J.-F., Hynes, J. T. & Laage, D. Water dynamics and sum-frequency generation spectra at electrode/aqueous electrolyte interfaces. Faraday Discuss. 249, 289–302 (2024).\thttps://pubs.rsc.org/en/content/articlelanding/2024/fd/d3fd00103b\thttp://jfo.github.io/files/paper1.pdf\thttp://jfo.github.io/files/slides1.pdf \n",
      "2021-08-24\tA Model Electron Transfer Reaction in Confined Aqueous Solution\tChemPhysChem\tLiquid water confined within nanometer-sized channels exhibits a strongly reduced local dielectric constant perpendicular to the wall, especially at the interface, and this has been suggested to induce faster electron transfer kinetics at the interface than in the bulk. We study a model electron transfer reaction in aqueous solution confined between graphene sheets with classical molecular dynamics. We show that the solvent reorganization energy is reduced at the interface compared to the bulk, which explains the larger rate constant. However, this facilitated solvent reorganization is due to the partial desolvation by the graphene sheet of the ions involved in the electron transfer and not to a local dielectric constant reduction effect.\tOlivieri, J.-F., Laage, D. & Hynes, J. T. A Model Electron Transfer Reaction in Confined Aqueous Solution. ChemPhysChem 22, 2247–2255 (2021).\thttps://chemistry-europe.onlinelibrary.wiley.com/doi/abs/10.1002/cphc.202100351\thttp://jfo.github.io/files/paper1.pdf\thttp://jfo.github.io/files/slides1.pdf\n",
      "2021-04-29\tConfined Water’s Dielectric Constant Reduction Is Due to the Surrounding Low Dielectric Media and Not to Interfacial Molecular Ordering\tThe Journal of Physical Chemistry Letters\tLiquid water confined within nanometer-sized channels exhibits a surprisingly low dielectric constant along the direction orthogonal to the channel walls. This is typically assumed to result from a pronounced heterogeneity across the sample: the dielectric constant would be bulk-like everywhere except at the interface, where it would be dramatically reduced by strong restrictions on interfacial molecules. Here we study the dielectric properties of water confined within graphene slit channels via classical molecular dynamics simulations. We show that the permittivity reduction is not due to any important alignment of interfacial water molecules, but instead to the long-ranged anisotropic dipole correlations combined with an excluded-volume effect of the low-dielectric confining material. The bulk permittivity is gradually recovered only over several nanometers due to the impact of long-range electrostatics, rather than structural features. This has important consequences for the control of, e.g., ion transport and chemical reactivity in nanoscopic channels and droplets.\tOlivieri, J.-F., Hynes, J. T. & Laage, D. Confined Water’s Dielectric Constant Reduction Is Due to the Surrounding Low Dielectric Media and Not to Interfacial Molecular Ordering. J. Phys. Chem. Lett. 12, 4319–4326 (2021).\thttps://pubs.acs.org/doi/abs/10.1021/acs.jpclett.1c00447\thttp://jfo.github.io/files/paper1.pdf\thttp://jfo.github.io/files/slides1.pdf\n",
      "2020-05-21\tSetting the photoelectron clock through molecular alignment\tNature Communications\tThe interaction of strong laser fields with matter intrinsically provides a powerful tool for imaging transient dynamics with an extremely high spatiotemporal resolution. Here, we study strong-field ionisation of laser-aligned molecules, and show a full real-time picture of the photoelectron dynamics in the combined action of the laser field and the molecular interaction. We demonstrate that the molecule has a dramatic impact on the overall strong-field dynamics: it sets the clock for the emission of electrons with a given rescattering kinetic energy. This result represents a benchmark for the seminal statements of molecular-frame strong-field physics and has strong impact on the interpretation of self-diffraction experiments. Furthermore, the resulting encoding of the time-energy relation in molecular-frame photoelectron momentum distributions shows the way of probing the molecular potential in real-time, and accessing a deeper understanding of electron transport during strong-field interactions.\tTrabattoni, A. et al. Setting the photoelectron clock through molecular alignment. Nat Commun 11, 2546 (2020).\thttps://www.nature.com/articles/s41467-020-16270-0\thttp://jfo.github.io/files/paper1.pdf\thttp://jfo.github.io/files/slides1.pdf\n",
      "2019-08-06\tStrong-field photoelectron momentum imaging of OCS at finely resolved incident intensities\tNew Journal of Physics\tPhotoelectron momentum distributions from strong-field ionization of carbonyl sulfide with 800 nm central-wavelength laser pulses at various peak intensities from $4.6$ to $13\\times10^{13}$ W/cm$^2$ were recorded and analyzed regarding resonant Rydberg states and photoelectron orbital angular momentum. The evaluation of the differentials of the momentum distributions with respect to the peak intensity highly suppressed the impact of focal volume averaging and allowed for the unambiguous recognition of Freeman resonances. As a result, previously made assignments of photoelectron lines could be reassigned. An earlier reported empirical rule, which relates the initial state's orbital momentum and the minimum photon expense to ionize an ac Stark shifted atomic system to the observable dominant photoelectron orbital momentum, was confirmed for the molecular target.\tWiese, J., Olivieri, J.-F., Trabattoni, A., Trippel, S. & Küpper, J. Strong-field photoelectron momentum imaging of OCS at finely resolved incident intensities. New Journal of Physics https://iopscience.iop.org/article/10.1088/1367-2630/ab34e8 (2019).\thttps://iopscience.iop.org/article/10.1088/1367-2630/ab34e8\t      http://jfo.github.io/files/paper1.pdf\thttp://jfo.github.io/files/slides1.pdf \n"
     ]
    }
   ],
   "source": [
    "!cat publications.tsv"
   ]
  },
  {
   "cell_type": "markdown",
   "metadata": {},
   "source": [
    "## Import pandas\n",
    "\n",
    "We are using the very handy pandas library for dataframes."
   ]
  },
  {
   "cell_type": "code",
   "execution_count": 31,
   "metadata": {
    "collapsed": true,
    "deletable": true,
    "editable": true
   },
   "outputs": [],
   "source": [
    "import pandas as pd"
   ]
  },
  {
   "cell_type": "markdown",
   "metadata": {},
   "source": [
    "## Import TSV\n",
    "\n",
    "Pandas makes this easy with the read_csv function. We are using a TSV, so we specify the separator as a tab, or `\\t`.\n",
    "\n",
    "I found it important to put this data in a tab-separated values format, because there are a lot of commas in this kind of data and comma-separated values can get messed up. However, you can modify the import statement, as pandas also has read_excel(), read_json(), and others."
   ]
  },
  {
   "cell_type": "code",
   "execution_count": 32,
   "metadata": {
    "collapsed": false,
    "deletable": true,
    "editable": true
   },
   "outputs": [
    {
     "data": {
      "text/html": [
       "<div>\n",
       "<style scoped>\n",
       "    .dataframe tbody tr th:only-of-type {\n",
       "        vertical-align: middle;\n",
       "    }\n",
       "\n",
       "    .dataframe tbody tr th {\n",
       "        vertical-align: top;\n",
       "    }\n",
       "\n",
       "    .dataframe thead th {\n",
       "        text-align: right;\n",
       "    }\n",
       "</style>\n",
       "<table border=\"1\" class=\"dataframe\">\n",
       "  <thead>\n",
       "    <tr style=\"text-align: right;\">\n",
       "      <th></th>\n",
       "      <th>pub_date</th>\n",
       "      <th>title</th>\n",
       "      <th>venue</th>\n",
       "      <th>excerpt</th>\n",
       "      <th>citation</th>\n",
       "      <th>url_slug</th>\n",
       "      <th>paper_url</th>\n",
       "      <th>slides_url</th>\n",
       "    </tr>\n",
       "  </thead>\n",
       "  <tbody>\n",
       "    <tr>\n",
       "      <th>0</th>\n",
       "      <td>2023-06-13</td>\n",
       "      <td>Water dynamics and sum-frequency generation sp...</td>\n",
       "      <td>Faraday Discussions</td>\n",
       "      <td>The dynamics of water at interfaces between an...</td>\n",
       "      <td>Olivieri, J.-F., Hynes, J. T. &amp; Laage, D. Wate...</td>\n",
       "      <td>https://pubs.rsc.org/en/content/articlelanding...</td>\n",
       "      <td>http://jfo.github.io/files/paper1.pdf</td>\n",
       "      <td>http://jfo.github.io/files/slides1.pdf</td>\n",
       "    </tr>\n",
       "    <tr>\n",
       "      <th>1</th>\n",
       "      <td>2021-08-24</td>\n",
       "      <td>A Model Electron Transfer Reaction in Confined...</td>\n",
       "      <td>ChemPhysChem</td>\n",
       "      <td>Liquid water confined within nanometer-sized c...</td>\n",
       "      <td>Olivieri, J.-F., Laage, D. &amp; Hynes, J. T. A Mo...</td>\n",
       "      <td>https://chemistry-europe.onlinelibrary.wiley.c...</td>\n",
       "      <td>http://jfo.github.io/files/paper1.pdf</td>\n",
       "      <td>http://jfo.github.io/files/slides1.pdf</td>\n",
       "    </tr>\n",
       "    <tr>\n",
       "      <th>2</th>\n",
       "      <td>2021-04-29</td>\n",
       "      <td>Confined Water’s Dielectric Constant Reduction...</td>\n",
       "      <td>The Journal of Physical Chemistry Letters</td>\n",
       "      <td>Liquid water confined within nanometer-sized c...</td>\n",
       "      <td>Olivieri, J.-F., Hynes, J. T. &amp; Laage, D. Conf...</td>\n",
       "      <td>https://pubs.acs.org/doi/abs/10.1021/acs.jpcle...</td>\n",
       "      <td>http://jfo.github.io/files/paper1.pdf</td>\n",
       "      <td>http://jfo.github.io/files/slides1.pdf</td>\n",
       "    </tr>\n",
       "    <tr>\n",
       "      <th>3</th>\n",
       "      <td>2020-05-21</td>\n",
       "      <td>Setting the photoelectron clock through molecu...</td>\n",
       "      <td>Nature Communications</td>\n",
       "      <td>The interaction of strong laser fields with ma...</td>\n",
       "      <td>Trabattoni, A. et al. Setting the photoelectro...</td>\n",
       "      <td>https://www.nature.com/articles/s41467-020-162...</td>\n",
       "      <td>http://jfo.github.io/files/paper1.pdf</td>\n",
       "      <td>http://jfo.github.io/files/slides1.pdf</td>\n",
       "    </tr>\n",
       "    <tr>\n",
       "      <th>4</th>\n",
       "      <td>2019-08-06</td>\n",
       "      <td>Strong-field photoelectron momentum imaging of...</td>\n",
       "      <td>New Journal of Physics</td>\n",
       "      <td>Photoelectron momentum distributions from stro...</td>\n",
       "      <td>Wiese, J., Olivieri, J.-F., Trabattoni, A., Tr...</td>\n",
       "      <td>https://iopscience.iop.org/article/10.1088/136...</td>\n",
       "      <td>http://jfo.github.io/files/paper1.pdf</td>\n",
       "      <td>http://jfo.github.io/files/slides1.pdf</td>\n",
       "    </tr>\n",
       "  </tbody>\n",
       "</table>\n",
       "</div>"
      ],
      "text/plain": [
       "     pub_date                                              title  \\\n",
       "0  2023-06-13  Water dynamics and sum-frequency generation sp...   \n",
       "1  2021-08-24  A Model Electron Transfer Reaction in Confined...   \n",
       "2  2021-04-29  Confined Water’s Dielectric Constant Reduction...   \n",
       "3  2020-05-21  Setting the photoelectron clock through molecu...   \n",
       "4  2019-08-06  Strong-field photoelectron momentum imaging of...   \n",
       "\n",
       "                                       venue  \\\n",
       "0                        Faraday Discussions   \n",
       "1                               ChemPhysChem   \n",
       "2  The Journal of Physical Chemistry Letters   \n",
       "3                      Nature Communications   \n",
       "4                     New Journal of Physics   \n",
       "\n",
       "                                             excerpt  \\\n",
       "0  The dynamics of water at interfaces between an...   \n",
       "1  Liquid water confined within nanometer-sized c...   \n",
       "2  Liquid water confined within nanometer-sized c...   \n",
       "3  The interaction of strong laser fields with ma...   \n",
       "4  Photoelectron momentum distributions from stro...   \n",
       "\n",
       "                                            citation  \\\n",
       "0  Olivieri, J.-F., Hynes, J. T. & Laage, D. Wate...   \n",
       "1  Olivieri, J.-F., Laage, D. & Hynes, J. T. A Mo...   \n",
       "2  Olivieri, J.-F., Hynes, J. T. & Laage, D. Conf...   \n",
       "3  Trabattoni, A. et al. Setting the photoelectro...   \n",
       "4  Wiese, J., Olivieri, J.-F., Trabattoni, A., Tr...   \n",
       "\n",
       "                                            url_slug  \\\n",
       "0  https://pubs.rsc.org/en/content/articlelanding...   \n",
       "1  https://chemistry-europe.onlinelibrary.wiley.c...   \n",
       "2  https://pubs.acs.org/doi/abs/10.1021/acs.jpcle...   \n",
       "3  https://www.nature.com/articles/s41467-020-162...   \n",
       "4  https://iopscience.iop.org/article/10.1088/136...   \n",
       "\n",
       "                                     paper_url  \\\n",
       "0        http://jfo.github.io/files/paper1.pdf   \n",
       "1        http://jfo.github.io/files/paper1.pdf   \n",
       "2        http://jfo.github.io/files/paper1.pdf   \n",
       "3        http://jfo.github.io/files/paper1.pdf   \n",
       "4        http://jfo.github.io/files/paper1.pdf   \n",
       "\n",
       "                                slides_url  \n",
       "0  http://jfo.github.io/files/slides1.pdf   \n",
       "1   http://jfo.github.io/files/slides1.pdf  \n",
       "2   http://jfo.github.io/files/slides1.pdf  \n",
       "3   http://jfo.github.io/files/slides1.pdf  \n",
       "4  http://jfo.github.io/files/slides1.pdf   "
      ]
     },
     "execution_count": 32,
     "metadata": {},
     "output_type": "execute_result"
    }
   ],
   "source": [
    "publications = pd.read_csv(\"publications.tsv\", sep=\"\\t\", header=0)\n",
    "publications\n"
   ]
  },
  {
   "cell_type": "markdown",
   "metadata": {},
   "source": [
    "## Escape special characters\n",
    "\n",
    "YAML is very picky about how it takes a valid string, so we are replacing single and double quotes (and ampersands) with their HTML encoded equivilents. This makes them look not so readable in raw format, but they are parsed and rendered nicely."
   ]
  },
  {
   "cell_type": "code",
   "execution_count": 33,
   "metadata": {
    "collapsed": true,
    "deletable": true,
    "editable": true
   },
   "outputs": [],
   "source": [
    "html_escape_table = {\n",
    "    \"&\": \"&amp;\",\n",
    "    '\"': \"&quot;\",\n",
    "    \"'\": \"&apos;\"\n",
    "    }\n",
    "\n",
    "def html_escape(text):\n",
    "    \"\"\"Produce entities within text.\"\"\"\n",
    "    return \"\".join(html_escape_table.get(c,c) for c in text)"
   ]
  },
  {
   "cell_type": "markdown",
   "metadata": {},
   "source": [
    "## Creating the markdown files\n",
    "\n",
    "This is where the heavy lifting is done. This loops through all the rows in the TSV dataframe, then starts to concatentate a big string (```md```) that contains the markdown for each type. It does the YAML metadata first, then does the description for the individual page."
   ]
  },
  {
   "cell_type": "code",
   "execution_count": null,
   "metadata": {
    "collapsed": false,
    "deletable": true,
    "editable": true
   },
   "outputs": [
    {
     "name": "stdout",
     "output_type": "stream",
     "text": [
      "d3fd00103b.md\n",
      "cphc.202100351.md\n",
      "acs.jpclett.1c00447.md\n",
      "s41467-020-16270-0.md\n",
      "ab34e8.md\n"
     ]
    }
   ],
   "source": [
    "import os\n",
    "for row, item in publications.iterrows():\n",
    "    #md_filename = str(item.pub_date) + \"-\" + item.url_slug + \".md\"\n",
    "    md_filename = str(item.pub_date) + \".md\"\n",
    "    #html_filename = str(item.pub_date) + \"-\" + item.url_slug\n",
    "    html_filename = str(item.pub_date)\n",
    "    year = item.pub_date[:4]\n",
    "    \n",
    "    ## YAML variables\n",
    "    \n",
    "    md = \"---\\ntitle: \\\"\"   + item.title + '\"\\n'\n",
    "    \n",
    "    md += \"\"\"collection: publications\"\"\"\n",
    "    \n",
    "    md += \"\"\"\\npermalink: /publication/\"\"\" + html_filename\n",
    "    \n",
    "    if len(str(item.excerpt)) > 5:\n",
    "        md += \"\\nexcerpt: '\" + html_escape(item.excerpt) + \"'\"\n",
    "    \n",
    "    md += \"\\ndate: \" + str(item.pub_date) \n",
    "    \n",
    "    md += \"\\nvenue: '\" + html_escape(item.venue) + \"'\"\n",
    "    \n",
    "    if len(str(item.slides_url)) > 5:\n",
    "        md += \"\\nslidesurl: '\" + item.slides_url + \"'\"\n",
    "\n",
    "    if len(str(item.paper_url)) > 5:\n",
    "        md += \"\\npaperurl: '\" + item.paper_url + \"'\"\n",
    "    \n",
    "    md += \"\\ncitation: '\" + html_escape(item.citation) + \"'\"\n",
    "    \n",
    "    md += \"\\n---\"\n",
    "    \n",
    "    ## Markdown description for individual page\n",
    "        \n",
    "    if len(str(item.excerpt)) > 5:\n",
    "        md += \"\\n\" + html_escape(item.excerpt) + \"\\n\"\n",
    "\n",
    "    if len(str(item.slides_url)) > 5:\n",
    "        md += \"\\n[Download slides here](\" + item.slides_url + \")\\n\" \n",
    "\n",
    "    if len(str(item.paper_url)) > 5:\n",
    "        md += \"\\n[Download paper here](\" + item.paper_url + \")\\n\" \n",
    "        \n",
    "    md += \"\\nRecommended citation: \" + item.citation\n",
    "    \n",
    "    md_filename = os.path.basename(md_filename)\n",
    "    print(md_filename)\n",
    "\n",
    "    with open(\"../_publications/\" + md_filename, 'w') as f:\n",
    "        f.write(md)"
   ]
  },
  {
   "cell_type": "markdown",
   "metadata": {},
   "source": [
    "These files are in the publications directory, one directory below where we're working from."
   ]
  },
  {
   "cell_type": "code",
   "execution_count": 35,
   "metadata": {
    "collapsed": false,
    "deletable": true,
    "editable": true
   },
   "outputs": [
    {
     "name": "stdout",
     "output_type": "stream",
     "text": [
      "2009-10-01-paper-title-number-1.md  ab34e8.md\n",
      "2010-10-01-paper-title-number-2.md  acs.jpclett.1c00447.md\n",
      "2015-10-01-paper-title-number-3.md  cphc.202100351.md\n",
      "2024-02-17-paper-title-number-4.md  d3fd00103b.md\n",
      "2025-06-08-paper-title-number-5.md  s41467-020-16270-0.md\n"
     ]
    }
   ],
   "source": [
    "!ls ../_publications/"
   ]
  },
  {
   "cell_type": "code",
   "execution_count": 36,
   "metadata": {
    "collapsed": false,
    "deletable": true,
    "editable": true
   },
   "outputs": [
    {
     "name": "stdout",
     "output_type": "stream",
     "text": [
      "---\n",
      "title: \"Paper Title Number 1\"\n",
      "collection: publications\n",
      "category: manuscripts\n",
      "permalink: /publication/2009-10-01-paper-title-number-1\n",
      "excerpt: 'This paper is about the number 1. The number 2 is left for future work.'\n",
      "date: 2009-10-01\n",
      "venue: 'Journal 1'\n",
      "slidesurl: 'https://academicpages.github.io/files/slides1.pdf'\n",
      "paperurl: 'https://academicpages.github.io/files/paper1.pdf'\n",
      "bibtexurl: 'https://academicpages.github.io/files/bibtex1.bib'\n",
      "citation: 'Your Name, You. (2009). &quot;Paper Title Number 1.&quot; <i>Journal 1</i>. 1(1).'\n",
      "---\n",
      "The contents above will be part of a list of publications, if the user clicks the link for the publication than the contents of section will be rendered as a full page, allowing you to provide more information about the paper for the reader. When publications are displayed as a single page, the contents of the above \"citation\" field will automatically be included below this section in a smaller font.\n"
     ]
    }
   ],
   "source": [
    "!cat ../_publications/2009-10-01-paper-title-number-1.md"
   ]
  },
  {
   "cell_type": "code",
   "execution_count": null,
   "metadata": {
    "collapsed": true,
    "deletable": true,
    "editable": true
   },
   "outputs": [],
   "source": []
  }
 ],
 "metadata": {
  "kernelspec": {
   "display_name": "teaching_3p12",
   "language": "python",
   "name": "python3"
  },
  "language_info": {
   "codemirror_mode": {
    "name": "ipython",
    "version": 3
   },
   "file_extension": ".py",
   "mimetype": "text/x-python",
   "name": "python",
   "nbconvert_exporter": "python",
   "pygments_lexer": "ipython3",
   "version": "3.12.2"
  }
 },
 "nbformat": 4,
 "nbformat_minor": 0
}
